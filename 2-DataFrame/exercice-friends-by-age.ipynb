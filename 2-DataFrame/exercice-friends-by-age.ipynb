{
 "cells": [
  {
   "cell_type": "code",
   "execution_count": 32,
   "id": "fd5ce617-1c8e-441a-9f82-bb15c740ecf0",
   "metadata": {},
   "outputs": [],
   "source": [
    "from pyspark.sql import SparkSession\n",
    "from pyspark.sql import functions as func\n",
    "\n",
    "spark = SparkSession.builder.appName(\"friendsByAge\").getOrCreate()"
   ]
  },
  {
   "cell_type": "code",
   "execution_count": 33,
   "id": "790edfbe-ffb0-45d8-8b9d-790ecc864204",
   "metadata": {},
   "outputs": [],
   "source": [
    "peoples = spark.read.option(\"inferSchema\", \"true\").option(\"header\", \"true\").csv(\"Data/fakefriends-header.csv\")"
   ]
  },
  {
   "cell_type": "code",
   "execution_count": 34,
   "id": "8c3e6820-1318-4328-8b34-6e676e74fff4",
   "metadata": {},
   "outputs": [
    {
     "name": "stdout",
     "output_type": "stream",
     "text": [
      "root\n",
      " |-- userID: integer (nullable = true)\n",
      " |-- name: string (nullable = true)\n",
      " |-- age: integer (nullable = true)\n",
      " |-- friends: integer (nullable = true)\n",
      "\n"
     ]
    }
   ],
   "source": [
    "peoples.printSchema()"
   ]
  },
  {
   "cell_type": "code",
   "execution_count": 35,
   "id": "968226b4-f5e0-4b96-97b8-f444dcc5a413",
   "metadata": {},
   "outputs": [
    {
     "name": "stdout",
     "output_type": "stream",
     "text": [
      "+------+--------+---+-------+\n",
      "|userID|    name|age|friends|\n",
      "+------+--------+---+-------+\n",
      "|     0|    Will| 33|    385|\n",
      "|     1|Jean-Luc| 26|      2|\n",
      "|     2|    Hugh| 55|    221|\n",
      "|     3|  Deanna| 40|    465|\n",
      "|     4|   Quark| 68|     21|\n",
      "+------+--------+---+-------+\n",
      "only showing top 5 rows\n",
      "\n"
     ]
    }
   ],
   "source": [
    "peoples.show(5)"
   ]
  },
  {
   "cell_type": "code",
   "execution_count": 36,
   "id": "942f383e-19ee-4e59-b26a-1d00b007f50b",
   "metadata": {},
   "outputs": [],
   "source": [
    "# solution 1 : query"
   ]
  },
  {
   "cell_type": "code",
   "execution_count": 37,
   "id": "c8a5e85f-1d9e-474d-8ca6-c5b0f2f2d2f8",
   "metadata": {},
   "outputs": [],
   "source": [
    "peoples.createOrReplaceTempView(\"people\")"
   ]
  },
  {
   "cell_type": "code",
   "execution_count": 40,
   "id": "6204ba44-a5ed-4695-8fe1-6e5551ae47a7",
   "metadata": {},
   "outputs": [],
   "source": [
    "friendsByAge = spark.sql(\"SELECT age, round(avg(friends), 2) as Friends FROM people GROUP BY age ORDER BY age DESC\")"
   ]
  },
  {
   "cell_type": "code",
   "execution_count": 41,
   "id": "34dc1a2a-b5c2-4ceb-b4e7-b2c8a283e4bc",
   "metadata": {},
   "outputs": [
    {
     "name": "stdout",
     "output_type": "stream",
     "text": [
      "+---+-------+\n",
      "|age|Friends|\n",
      "+---+-------+\n",
      "| 69|  235.2|\n",
      "| 68|  269.6|\n",
      "| 67| 214.63|\n",
      "| 66| 276.44|\n",
      "| 65|  298.2|\n",
      "| 64| 281.33|\n",
      "| 63|  384.0|\n",
      "| 62| 220.77|\n",
      "| 61| 256.22|\n",
      "| 60| 202.71|\n",
      "| 59|  220.0|\n",
      "| 58| 116.55|\n",
      "| 57| 258.83|\n",
      "| 56| 306.67|\n",
      "| 55| 295.54|\n",
      "| 54| 278.08|\n",
      "| 53| 222.86|\n",
      "| 52| 340.64|\n",
      "| 51| 302.14|\n",
      "| 50|  254.6|\n",
      "+---+-------+\n",
      "only showing top 20 rows\n",
      "\n"
     ]
    }
   ],
   "source": [
    "friendsByAge.show()"
   ]
  },
  {
   "cell_type": "code",
   "execution_count": 42,
   "id": "0b17ef21-8c83-4ac9-89b4-8d9cb6d792b7",
   "metadata": {},
   "outputs": [],
   "source": [
    "# solution 2 : dataset"
   ]
  },
  {
   "cell_type": "code",
   "execution_count": 43,
   "id": "ff1aa1d6-660f-447b-914d-1fc69ae7deb5",
   "metadata": {},
   "outputs": [],
   "source": [
    "average = peoples.select(\"age\", \"friends\")"
   ]
  },
  {
   "cell_type": "code",
   "execution_count": 44,
   "id": "d497b975-9e1c-4121-95cc-d574cd9c5b5f",
   "metadata": {},
   "outputs": [
    {
     "name": "stdout",
     "output_type": "stream",
     "text": [
      "+---+-------+\n",
      "|age|Friends|\n",
      "+---+-------+\n",
      "| 69|  235.2|\n",
      "| 68|  269.6|\n",
      "| 67| 214.63|\n",
      "| 66| 276.44|\n",
      "| 65|  298.2|\n",
      "| 64| 281.33|\n",
      "| 63|  384.0|\n",
      "| 62| 220.77|\n",
      "| 61| 256.22|\n",
      "| 60| 202.71|\n",
      "| 59|  220.0|\n",
      "| 58| 116.55|\n",
      "| 57| 258.83|\n",
      "| 56| 306.67|\n",
      "| 55| 295.54|\n",
      "| 54| 278.08|\n",
      "| 53| 222.86|\n",
      "| 52| 340.64|\n",
      "| 51| 302.14|\n",
      "| 50|  254.6|\n",
      "+---+-------+\n",
      "only showing top 20 rows\n",
      "\n"
     ]
    }
   ],
   "source": [
    "friendAge = average.groupBy(\"age\").agg(func.round(func.avg(\"friends\"), 2).alias(\"Friends\")).sort(\"age\", ascending=False)\n",
    "friendAge.show()"
   ]
  },
  {
   "cell_type": "code",
   "execution_count": 45,
   "id": "4e54305d-74f0-4e4b-b7ca-6468a00809c8",
   "metadata": {},
   "outputs": [],
   "source": [
    "spark.stop()"
   ]
  },
  {
   "cell_type": "code",
   "execution_count": null,
   "id": "6e558b55-0ac4-4a57-b794-3265e688163c",
   "metadata": {},
   "outputs": [],
   "source": []
  }
 ],
 "metadata": {
  "kernelspec": {
   "display_name": "Python 3 (ipykernel)",
   "language": "python",
   "name": "python3"
  },
  "language_info": {
   "codemirror_mode": {
    "name": "ipython",
    "version": 3
   },
   "file_extension": ".py",
   "mimetype": "text/x-python",
   "name": "python",
   "nbconvert_exporter": "python",
   "pygments_lexer": "ipython3",
   "version": "3.10.8"
  }
 },
 "nbformat": 4,
 "nbformat_minor": 5
}
