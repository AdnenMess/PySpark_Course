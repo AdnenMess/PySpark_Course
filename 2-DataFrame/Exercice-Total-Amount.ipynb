{
 "cells": [
  {
   "cell_type": "code",
   "execution_count": 1,
   "id": "aee51164-1fa4-4de0-abca-c18eb95d9880",
   "metadata": {},
   "outputs": [],
   "source": [
    "from pyspark import SparkContext\n",
    "from pyspark.sql import SparkSession\n",
    "from pyspark.sql import functions as func\n",
    "from pyspark.sql.types import StructType, StructField, StringType, IntegerType, FloatType"
   ]
  },
  {
   "cell_type": "code",
   "execution_count": 2,
   "id": "166867b0-45ba-4da6-bd3e-3ca5433f1eda",
   "metadata": {},
   "outputs": [],
   "source": [
    "sc = SparkContext()\n",
    "spark = SparkSession(sc, jsparkSession=None).builder.appName(\"TotalAmount\").getOrCreate()"
   ]
  },
  {
   "cell_type": "code",
   "execution_count": 3,
   "id": "ec0bbcf7-ff0a-4f99-9a36-d14c490048f0",
   "metadata": {},
   "outputs": [],
   "source": [
    "schema = StructType([StructField(\"customerID\", StringType()),\n",
    "                     StructField(\"itemID\", StringType()),\n",
    "                     StructField(\"AmountSpend\", FloatType())])"
   ]
  },
  {
   "cell_type": "code",
   "execution_count": 4,
   "id": "e70d7abc-fa7c-4e3a-9f46-942a9f1b3f95",
   "metadata": {},
   "outputs": [],
   "source": [
    "df = spark.read.schema(schema).csv(\"Data/customer-orders.csv\")"
   ]
  },
  {
   "cell_type": "code",
   "execution_count": 5,
   "id": "7497cdeb-ec4d-485d-83b6-10c66d13e7bc",
   "metadata": {},
   "outputs": [
    {
     "name": "stdout",
     "output_type": "stream",
     "text": [
      "root\n",
      " |-- customerID: string (nullable = true)\n",
      " |-- itemID: string (nullable = true)\n",
      " |-- AmountSpend: float (nullable = true)\n",
      "\n"
     ]
    }
   ],
   "source": [
    "df.printSchema()"
   ]
  },
  {
   "cell_type": "code",
   "execution_count": 6,
   "id": "dce98ad4-4cbc-48f2-82c4-c4d869c66682",
   "metadata": {},
   "outputs": [
    {
     "name": "stdout",
     "output_type": "stream",
     "text": [
      "+----------+------+-----------+\n",
      "|customerID|itemID|AmountSpend|\n",
      "+----------+------+-----------+\n",
      "|        44|  8602|      37.19|\n",
      "|        35|  5368|      65.89|\n",
      "|         2|  3391|      40.64|\n",
      "|        47|  6694|      14.98|\n",
      "|        29|   680|      13.08|\n",
      "+----------+------+-----------+\n",
      "only showing top 5 rows\n",
      "\n"
     ]
    }
   ],
   "source": [
    "df.show(5)"
   ]
  },
  {
   "cell_type": "code",
   "execution_count": 7,
   "id": "05bf3576-45ab-4b76-9831-16ad976ecc17",
   "metadata": {},
   "outputs": [],
   "source": [
    "# Solution 1 with SQL Query"
   ]
  },
  {
   "cell_type": "code",
   "execution_count": 8,
   "id": "7bd37811-0fbf-4355-9e52-a8c30fa4414a",
   "metadata": {},
   "outputs": [],
   "source": [
    "df.createOrReplaceTempView(\"customer\")"
   ]
  },
  {
   "cell_type": "code",
   "execution_count": 9,
   "id": "09165a9e-f296-4312-8a49-0b227224f528",
   "metadata": {},
   "outputs": [],
   "source": [
    "totalAmount = spark.sql('''\n",
    "                        Select customerID,\n",
    "                               ROUND(sum(AmountSpend), 2) As TotalAmount\n",
    "                        From customer\n",
    "                        Group By customerID\n",
    "                        Order By TotalAmount\n",
    "                        ''')"
   ]
  },
  {
   "cell_type": "code",
   "execution_count": 10,
   "id": "1d7b8235-8f90-4a0c-8b1a-050a476badeb",
   "metadata": {},
   "outputs": [
    {
     "name": "stdout",
     "output_type": "stream",
     "text": [
      "+----------+-----------+\n",
      "|customerID|TotalAmount|\n",
      "+----------+-----------+\n",
      "|        45|    3309.38|\n",
      "|        79|    3790.57|\n",
      "|        96|    3924.23|\n",
      "|        23|    4042.65|\n",
      "|        99|    4172.29|\n",
      "|        75|     4178.5|\n",
      "|        36|    4278.05|\n",
      "|        98|    4297.26|\n",
      "|        47|     4316.3|\n",
      "|        77|    4327.73|\n",
      "|        13|    4367.62|\n",
      "|        48|    4384.33|\n",
      "|        49|     4394.6|\n",
      "|        94|    4475.57|\n",
      "|        67|    4505.79|\n",
      "|        50|    4517.27|\n",
      "|        78|    4524.51|\n",
      "|         5|    4561.07|\n",
      "|        57|     4628.4|\n",
      "|        83|     4635.8|\n",
      "+----------+-----------+\n",
      "only showing top 20 rows\n",
      "\n"
     ]
    }
   ],
   "source": [
    "totalAmount.show()"
   ]
  },
  {
   "cell_type": "code",
   "execution_count": 11,
   "id": "bb418144-29f7-4f27-b003-9832644baae8",
   "metadata": {},
   "outputs": [],
   "source": [
    "# Solution 2 with DataFrame"
   ]
  },
  {
   "cell_type": "code",
   "execution_count": 12,
   "id": "ca5c35cf-bfa7-48e1-8de3-03cf668cdaf1",
   "metadata": {},
   "outputs": [],
   "source": [
    "customer = df.select(\"customerID\", \"AmountSpend\")"
   ]
  },
  {
   "cell_type": "code",
   "execution_count": 13,
   "id": "c5e528b0-4494-443c-8903-1df4eb3729c9",
   "metadata": {},
   "outputs": [],
   "source": [
    "agg = customer.groupBy(\"customerID\").agg(func.round(func.sum(\"AmountSpend\"), 2).alias(\"TotalAmount\"))"
   ]
  },
  {
   "cell_type": "code",
   "execution_count": 14,
   "id": "6e2c288f-b2f8-4269-abf3-ab2886064373",
   "metadata": {},
   "outputs": [],
   "source": [
    "aggSorted = agg.sort(\"TotalAmount\")"
   ]
  },
  {
   "cell_type": "code",
   "execution_count": 15,
   "id": "b63ec361-936b-4522-bcce-4952c2ce5147",
   "metadata": {},
   "outputs": [
    {
     "name": "stdout",
     "output_type": "stream",
     "text": [
      "+----------+-----------+\n",
      "|customerID|TotalAmount|\n",
      "+----------+-----------+\n",
      "|        45|    3309.38|\n",
      "|        79|    3790.57|\n",
      "|        96|    3924.23|\n",
      "|        23|    4042.65|\n",
      "|        99|    4172.29|\n",
      "|        75|     4178.5|\n",
      "|        36|    4278.05|\n",
      "|        98|    4297.26|\n",
      "|        47|     4316.3|\n",
      "|        77|    4327.73|\n",
      "|        13|    4367.62|\n",
      "|        48|    4384.33|\n",
      "|        49|     4394.6|\n",
      "|        94|    4475.57|\n",
      "|        67|    4505.79|\n",
      "|        50|    4517.27|\n",
      "|        78|    4524.51|\n",
      "|         5|    4561.07|\n",
      "|        57|     4628.4|\n",
      "|        83|     4635.8|\n",
      "|        91|    4642.26|\n",
      "|        74|    4647.13|\n",
      "|        84|    4652.94|\n",
      "|         3|    4659.63|\n",
      "|        12|    4664.59|\n",
      "|        66|    4681.92|\n",
      "|        56|    4701.02|\n",
      "|        21|    4707.41|\n",
      "|        80|    4727.86|\n",
      "|        14|    4735.03|\n",
      "|        37|     4735.2|\n",
      "|         7|    4755.07|\n",
      "|        44|    4756.89|\n",
      "|        31|    4765.05|\n",
      "|        82|    4812.49|\n",
      "|         4|    4815.05|\n",
      "|        10|     4819.7|\n",
      "|        88|    4830.55|\n",
      "|        20|    4836.86|\n",
      "|        89|    4851.48|\n",
      "|        95|    4876.84|\n",
      "|        38|    4898.46|\n",
      "|        76|    4904.21|\n",
      "|        86|    4908.81|\n",
      "|        27|    4915.89|\n",
      "|        18|    4921.27|\n",
      "|        53|     4945.3|\n",
      "|         1|     4958.6|\n",
      "|        51|    4975.22|\n",
      "|        16|    4979.06|\n",
      "|        30|    4990.72|\n",
      "|        28|    5000.71|\n",
      "|        22|    5019.45|\n",
      "|        29|    5032.53|\n",
      "|        17|    5032.68|\n",
      "|        60|    5040.71|\n",
      "|        25|    5057.61|\n",
      "|        19|    5059.43|\n",
      "|        81|    5112.71|\n",
      "|        69|    5123.01|\n",
      "|        65|    5140.35|\n",
      "|        11|    5152.29|\n",
      "|        35|    5155.42|\n",
      "|        40|    5186.43|\n",
      "|        87|     5206.4|\n",
      "|        52|    5245.06|\n",
      "|        26|     5250.4|\n",
      "|        62|    5253.32|\n",
      "|        33|    5254.66|\n",
      "|        24|    5259.92|\n",
      "|        93|    5265.75|\n",
      "|        64|    5288.69|\n",
      "|        90|    5290.41|\n",
      "|        55|    5298.09|\n",
      "|         9|    5322.65|\n",
      "|        34|     5330.8|\n",
      "|        72|    5337.44|\n",
      "|        70|    5368.25|\n",
      "|        43|    5368.83|\n",
      "|        92|    5379.28|\n",
      "|         6|    5397.88|\n",
      "|        15|    5413.51|\n",
      "|        63|    5415.15|\n",
      "|        58|    5437.73|\n",
      "|        32|    5496.05|\n",
      "|        61|    5497.48|\n",
      "|        85|    5503.43|\n",
      "|         8|    5517.24|\n",
      "|         0|    5524.95|\n",
      "|        41|    5637.62|\n",
      "|        59|    5642.89|\n",
      "|        42|    5696.84|\n",
      "|        46|    5963.11|\n",
      "|        97|    5977.19|\n",
      "|         2|    5994.59|\n",
      "|        71|    5995.66|\n",
      "|        54|    6065.39|\n",
      "|        39|    6193.11|\n",
      "|        73|     6206.2|\n",
      "|        68|    6375.45|\n",
      "+----------+-----------+\n",
      "\n"
     ]
    }
   ],
   "source": [
    "aggSorted.show(aggSorted.count())"
   ]
  },
  {
   "cell_type": "code",
   "execution_count": 16,
   "id": "564bd912-c70f-4ab3-ba2e-ca3819729a72",
   "metadata": {},
   "outputs": [],
   "source": [
    "spark.stop()"
   ]
  },
  {
   "cell_type": "code",
   "execution_count": null,
   "id": "54d5a70e-187d-4209-ac61-2c77c2afcd8d",
   "metadata": {},
   "outputs": [],
   "source": []
  }
 ],
 "metadata": {
  "kernelspec": {
   "display_name": "Python 3 (ipykernel)",
   "language": "python",
   "name": "python3"
  },
  "language_info": {
   "codemirror_mode": {
    "name": "ipython",
    "version": 3
   },
   "file_extension": ".py",
   "mimetype": "text/x-python",
   "name": "python",
   "nbconvert_exporter": "python",
   "pygments_lexer": "ipython3",
   "version": "3.10.8"
  }
 },
 "nbformat": 4,
 "nbformat_minor": 5
}
